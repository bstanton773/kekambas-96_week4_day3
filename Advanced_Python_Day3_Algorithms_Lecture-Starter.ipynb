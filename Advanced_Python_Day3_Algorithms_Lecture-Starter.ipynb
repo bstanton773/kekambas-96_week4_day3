{
 "cells": [
  {
   "cell_type": "markdown",
   "metadata": {},
   "source": [
    "# Classic Algorithms"
   ]
  },
  {
   "cell_type": "markdown",
   "metadata": {},
   "source": [
    "## Tasks Today:\n",
    " \n",
    "1) <b>In-Place Algorithms</b> <br>\n",
    " &nbsp;&nbsp;&nbsp;&nbsp; a) Syntax <br>\n",
    " &nbsp;&nbsp;&nbsp;&nbsp; a) Out of Place Algorithm <br>\n",
    " &nbsp;&nbsp;&nbsp;&nbsp; b) In-Class Exercise #1 <br>\n",
    "2) <b>Two Pointers</b> <br>\n",
    "3) <b>Sorting Algorithms</b> <br>\n",
    "4) <b>Merge Sort</b> <br>\n",
    " &nbsp;&nbsp;&nbsp;&nbsp; a) Video on Algorithms <br>\n",
    " &nbsp;&nbsp;&nbsp;&nbsp; b) How it Works <br>\n",
    "5) <b>Exercises</b> <br>\n",
    " &nbsp;&nbsp;&nbsp;&nbsp; a) Exercise #1 - Reverse a List in Place Using an In-Place Algorithm <br>\n",
    " &nbsp;&nbsp;&nbsp;&nbsp; b) Exercise #2 - Find Distinct Words <br>\n",
    " &nbsp;&nbsp;&nbsp;&nbsp; c) Exercise #3 - Write a program to implement a Linear Search Algorithm. <br>"
   ]
  },
  {
   "cell_type": "code",
   "execution_count": 3,
   "metadata": {},
   "outputs": [
    {
     "name": "stdout",
     "output_type": "stream",
     "text": [
      "0 0\n",
      "0 1\n",
      "0 2\n",
      "0 3\n",
      "1 0\n",
      "1 1\n",
      "1 2\n",
      "1 3\n",
      "2 0\n",
      "2 1\n",
      "2 2\n",
      "2 3\n",
      "3 0\n",
      "3 1\n",
      "3 2\n",
      "3 3\n"
     ]
    },
    {
     "data": {
      "text/plain": [
       "16"
      ]
     },
     "execution_count": 3,
     "metadata": {},
     "output_type": "execute_result"
    }
   ],
   "source": [
    "def count_operations(n):\n",
    "    num_operations = 0\n",
    "    for i in range(n):\n",
    "        for j in range(n):\n",
    "            print(i, j)\n",
    "            num_operations += 1\n",
    "    return num_operations\n",
    "\n",
    "count_operations(4)"
   ]
  },
  {
   "cell_type": "code",
   "execution_count": null,
   "metadata": {},
   "outputs": [],
   "source": [
    "my_list = [2, 5, 7, 3, 4, 8, 1]\n",
    "\n",
    "def sort_my_list(a_list): # Constant Space O(1) - In-Place Algorithm\n",
    "    a_list.sort()\n",
    "    \n",
    "def sort_my_list(a_list): # Linear Space O(n) - Out-of-Place Algorithm\n",
    "    return sorted(a_list)\n",
    "\n",
    "\n"
   ]
  },
  {
   "cell_type": "markdown",
   "metadata": {},
   "source": [
    "## In-Place Algorithms"
   ]
  },
  {
   "cell_type": "markdown",
   "metadata": {},
   "source": [
    "#### Syntax"
   ]
  },
  {
   "cell_type": "code",
   "execution_count": 10,
   "metadata": {},
   "outputs": [
    {
     "name": "stdout",
     "output_type": "stream",
     "text": [
      "Before function [1, 2, 3, 4, 5]\n",
      "After function [5, 2, 3, 4, 1]\n"
     ]
    }
   ],
   "source": [
    "list1 = [1, 2, 3, 4, 5]\n",
    "\n",
    "def swap(a_list, index_a, index_b):\n",
    "#     print(a_list)\n",
    "    temp = a_list[index_a]\n",
    "    a_list[index_a] = a_list[index_b]\n",
    "#     print(a_list)\n",
    "    a_list[index_b] = temp\n",
    "#     print(a_list)\n",
    "    \n",
    "print('Before function', list1)    \n",
    "swap(list1, 0, 4)\n",
    "print('After function', list1)"
   ]
  },
  {
   "cell_type": "code",
   "execution_count": 16,
   "metadata": {},
   "outputs": [
    {
     "name": "stdout",
     "output_type": "stream",
     "text": [
      "1\n",
      "2\n",
      "3\n"
     ]
    }
   ],
   "source": [
    "# a_list[a], a_list[b] = a_list[b], a_list[a]\n",
    "\n",
    "a, b, c = 1, 2, 3\n",
    "\n",
    "print(a)\n",
    "print(b)\n",
    "print(c)"
   ]
  },
  {
   "cell_type": "code",
   "execution_count": 17,
   "metadata": {},
   "outputs": [
    {
     "name": "stdout",
     "output_type": "stream",
     "text": [
      "Before function [10, 20, 30, 40, 50]\n",
      "After function [10, 40, 30, 20, 50]\n"
     ]
    }
   ],
   "source": [
    "def swap2(a_list, index_a, index_b):\n",
    "    # Mulitple Variable Assignment in Python, aka unpacking\n",
    "    a_list[index_a], a_list[index_b] = a_list[index_b], a_list[index_a]\n",
    "    \n",
    "list2 = [10, 20, 30, 40, 50]\n",
    "\n",
    "print('Before function', list2)\n",
    "swap2(list2, 1, 3)\n",
    "print('After function', list2)"
   ]
  },
  {
   "cell_type": "markdown",
   "metadata": {},
   "source": [
    "#### Out of Place Algorithm"
   ]
  },
  {
   "cell_type": "code",
   "execution_count": 19,
   "metadata": {},
   "outputs": [
    {
     "name": "stdout",
     "output_type": "stream",
     "text": [
      "Before Function ['Illinois', 'New York', 'California', 'Texas', 'Colorado']\n",
      "After Function ['Illinois', 'New York', 'California', 'Texas', 'Colorado']\n",
      "New List ['California', 'New York', 'Illinois', 'Texas', 'Colorado']\n"
     ]
    }
   ],
   "source": [
    "def out_of_place_swap(original_list, index1, index2):\n",
    "    # Create a copy of the list\n",
    "    new_list = original_list[:]\n",
    "    # Set the value at index1 of the new copied list to the value at index2 of the original\n",
    "    new_list[index1] = original_list[index2]\n",
    "    # Set the value at index2 of the new copied list to the value at index1 of the original\n",
    "    new_list[index2] = original_list[index1] \n",
    "    return new_list\n",
    "\n",
    "list3 = ['Illinois', 'New York', 'California', 'Texas', 'Colorado']\n",
    "\n",
    "print('Before Function', list3)\n",
    "new_list3 = out_of_place_swap(list3, 0, 2)\n",
    "print('After Function', list3)\n",
    "print('New List', new_list3)"
   ]
  },
  {
   "cell_type": "code",
   "execution_count": 20,
   "metadata": {},
   "outputs": [
    {
     "name": "stdout",
     "output_type": "stream",
     "text": [
      "Before .sort [3, 8, 4, 22, 76, 2, 34]\n",
      "After .sort [2, 3, 4, 8, 22, 34, 76]\n"
     ]
    }
   ],
   "source": [
    "unsorted_list = [3, 8, 4, 22, 76, 2, 34]\n",
    "\n",
    "# .sort is In-Place\n",
    "print('Before .sort', unsorted_list)\n",
    "unsorted_list.sort()\n",
    "print('After .sort', unsorted_list)"
   ]
  },
  {
   "cell_type": "code",
   "execution_count": 23,
   "metadata": {},
   "outputs": [
    {
     "name": "stdout",
     "output_type": "stream",
     "text": [
      "Before sorted [3, 8, 4, 22, 76, 2, 34]\n",
      "After sorted [3, 8, 4, 22, 76, 2, 34]\n",
      "[2, 3, 4, 8, 22, 34, 76]\n"
     ]
    }
   ],
   "source": [
    "unsorted_list = [3, 8, 4, 22, 76, 2, 34]\n",
    "\n",
    "# sorted is out of place\n",
    "print('Before sorted', unsorted_list)\n",
    "sorted_list = sorted(unsorted_list)\n",
    "print('After sorted', unsorted_list)\n",
    "print(sorted_list)"
   ]
  },
  {
   "cell_type": "markdown",
   "metadata": {},
   "source": [
    "#### In-Class Exercise #1 <br>\n",
    "<p>Write a function that takes in four arguments (a_list, index1, index2, index3), and swaps those three positions in-place in the list passed in.</p>"
   ]
  },
  {
   "cell_type": "code",
   "execution_count": null,
   "metadata": {},
   "outputs": [],
   "source": []
  },
  {
   "cell_type": "markdown",
   "metadata": {},
   "source": [
    "## Two Pointers"
   ]
  },
  {
   "cell_type": "markdown",
   "metadata": {},
   "source": [
    "#### Syntax"
   ]
  },
  {
   "cell_type": "code",
   "execution_count": 24,
   "metadata": {},
   "outputs": [
    {
     "name": "stdout",
     "output_type": "stream",
     "text": [
      "[1, 2, 3, 4, 5, 6, 7, 8, 9, 10]\n",
      "[10, 9, 8, 7, 6, 5, 4, 3, 2, 1]\n"
     ]
    }
   ],
   "source": [
    "def reverse_swap(a_list): # In-Place\n",
    "    # Create two variables to point to the index we want to swap\n",
    "    left = 0 # first element in the list (0-based index)\n",
    "    right = len(a_list) - 1 # last element in the list\n",
    "    while left < right:\n",
    "        a_list[left], a_list[right] = a_list[right], a_list[left]\n",
    "        # move the left pointer one index to the right\n",
    "        left += 1\n",
    "        # move the right pointer one index to the left\n",
    "        right -= 1\n",
    "        \n",
    "        \n",
    "list4 = [1, 2, 3, 4, 5, 6, 7, 8, 9, 10]\n",
    "\n",
    "print(list4)\n",
    "reverse_swap(list4)\n",
    "print(list4)"
   ]
  },
  {
   "cell_type": "code",
   "execution_count": 28,
   "metadata": {},
   "outputs": [
    {
     "name": "stdout",
     "output_type": "stream",
     "text": [
      "[10, 20, 30, 40, 50]\n",
      "[10, 20, 30, 40, 50]\n",
      "[50, 40, 30, 20, 10]\n"
     ]
    }
   ],
   "source": [
    "def reverse_out_of_place(a_list):\n",
    "    return a_list[::-1]\n",
    "\n",
    "\n",
    "list5 = [10, 20, 30, 40, 50]\n",
    "\n",
    "print(list5)\n",
    "new_list = reverse_out_of_place(list5)\n",
    "print(list5)\n",
    "print(new_list)"
   ]
  },
  {
   "cell_type": "markdown",
   "metadata": {},
   "source": [
    "# Sorting Algorithms"
   ]
  },
  {
   "cell_type": "code",
   "execution_count": 41,
   "metadata": {},
   "outputs": [
    {
     "name": "stdout",
     "output_type": "stream",
     "text": [
      "[24, 4, 17, 8, 77, 62, 99, 26, 86, 10]\n"
     ]
    }
   ],
   "source": [
    "from random import randint\n",
    "\n",
    "list_to_sort = [randint(1, 100) for _ in range(10)]\n",
    "print(list_to_sort)"
   ]
  },
  {
   "cell_type": "markdown",
   "metadata": {},
   "source": [
    "#### Bubble Sort\n",
    "\n",
    "Worst Case: O(n^2) Time - O(1) Space"
   ]
  },
  {
   "cell_type": "code",
   "execution_count": 43,
   "metadata": {},
   "outputs": [
    {
     "data": {
      "text/plain": [
       "[4, 8, 10, 17, 24, 26, 62, 77, 86, 99]"
      ]
     },
     "execution_count": 43,
     "metadata": {},
     "output_type": "execute_result"
    }
   ],
   "source": [
    "def bubble_sort(lst):\n",
    "    # When we first start, we assume the list is unsorted\n",
    "    is_sorted = False\n",
    "    # while the list is unsorted, loop through the list and \"bubble\" the largest to the top (far right)\n",
    "    while not is_sorted:\n",
    "        # Assume the loop is now sorted\n",
    "        is_sorted = True\n",
    "        # Begin the loop, using the index of the list\n",
    "        for idx in range(len(lst) - 1):\n",
    "            # if the value of the list at the current index is greater than the value to its right\n",
    "            if lst[idx] > lst[idx+1]:\n",
    "                # if yes, swap those two value\n",
    "                lst[idx], lst[idx+1] = lst[idx+1], lst[idx]\n",
    "                # if we have to swap, that means our list is not sorted\n",
    "                is_sorted = False\n",
    "                \n",
    "    # Return the sorted list\n",
    "    return lst\n",
    "\n",
    "\n",
    "bubble_sort(list_to_sort)"
   ]
  },
  {
   "cell_type": "markdown",
   "metadata": {},
   "source": [
    "##### Insertion Sort\n",
    "\n",
    "Worst Case: O(n^2) time - O(1)space"
   ]
  },
  {
   "cell_type": "code",
   "execution_count": 47,
   "metadata": {},
   "outputs": [],
   "source": [
    "list_to_sort = [24, 4, 17, 8, 77, 62, 99, 26, 77, 86, 10]"
   ]
  },
  {
   "cell_type": "code",
   "execution_count": 48,
   "metadata": {},
   "outputs": [
    {
     "data": {
      "text/plain": [
       "[4, 8, 10, 17, 24, 26, 62, 77, 77, 86, 99]"
      ]
     },
     "execution_count": 48,
     "metadata": {},
     "output_type": "execute_result"
    }
   ],
   "source": [
    "def insertion_sort(lst):\n",
    "    # \"mark\" 1st element as \"sorted\", loop over the rest of the \"unsorted\" section (1 index -> end of list)\n",
    "    for idx in range(1, len(lst)):\n",
    "        # While we're not at the front of the list and the element is less than the element to its left\n",
    "        while idx > 0 and lst[idx] < lst[idx-1]:\n",
    "            # swap our element with the element to its left\n",
    "            lst[idx], lst[idx-1] = lst[idx-1], lst[idx]\n",
    "            # move our pointer left one element (to match the new swap)\n",
    "            idx -= 1\n",
    "    \n",
    "    # After the loop is finised, return lst\n",
    "    return lst\n",
    "\n",
    "\n",
    "insertion_sort(list_to_sort)"
   ]
  },
  {
   "cell_type": "markdown",
   "metadata": {},
   "source": [
    "## Merge Sort"
   ]
  },
  {
   "cell_type": "markdown",
   "metadata": {},
   "source": [
    "#### How it Works"
   ]
  },
  {
   "cell_type": "code",
   "execution_count": 50,
   "metadata": {},
   "outputs": [],
   "source": [
    "list_to_sort = [24, 4, 17, 8, 77, 62, 99, 26, 77, 86, 10]"
   ]
  },
  {
   "cell_type": "code",
   "execution_count": 52,
   "metadata": {},
   "outputs": [
    {
     "name": "stdout",
     "output_type": "stream",
     "text": [
      "Splitting... [24, 4, 17, 8, 77, 62, 99, 26, 77, 86, 10]\n",
      "Splitting... [24, 4, 17, 8, 77]\n",
      "Splitting... [24, 4]\n",
      "Merging... [24]\n",
      "Merging... [4]\n",
      "Merging... [4, 24]\n",
      "Splitting... [17, 8, 77]\n",
      "Merging... [17]\n",
      "Splitting... [8, 77]\n",
      "Merging... [8]\n",
      "Merging... [77]\n",
      "Merging... [8, 77]\n",
      "Merging... [8, 17, 77]\n",
      "Merging... [4, 8, 17, 24, 77]\n",
      "Splitting... [62, 99, 26, 77, 86, 10]\n",
      "Splitting... [62, 99, 26]\n",
      "Merging... [62]\n",
      "Splitting... [99, 26]\n",
      "Merging... [99]\n",
      "Merging... [26]\n",
      "Merging... [26, 99]\n",
      "Merging... [26, 62, 99]\n",
      "Splitting... [77, 86, 10]\n",
      "Merging... [77]\n",
      "Splitting... [86, 10]\n",
      "Merging... [86]\n",
      "Merging... [10]\n",
      "Merging... [10, 86]\n",
      "Merging... [10, 77, 86]\n",
      "Merging... [10, 26, 62, 77, 86, 99]\n",
      "Merging... [4, 8, 10, 17, 24, 26, 62, 77, 77, 86, 99]\n"
     ]
    },
    {
     "data": {
      "text/plain": [
       "[4, 8, 10, 17, 24, 26, 62, 77, 77, 86, 99]"
      ]
     },
     "execution_count": 52,
     "metadata": {},
     "output_type": "execute_result"
    }
   ],
   "source": [
    "def merge_sort(lst):\n",
    "    # If the list is larger than 1 element, split the list\n",
    "    if len(lst) > 1:\n",
    "        # Find midway point of list\n",
    "        midway = len(lst) // 2\n",
    "        print('Splitting...', lst)\n",
    "        # slice the main list from the beginning to the midway point\n",
    "        left_half = lst[:midway]\n",
    "        # slice the main list from the midway point to the end\n",
    "        right_half = lst[midway:]\n",
    "        \n",
    "        # Recursively call merge_sort function on left half\n",
    "        merge_sort(left_half)\n",
    "        # Then call it on the right half\n",
    "        merge_sort(right_half)\n",
    "        \n",
    "        # Merge the left and right half back into the main list using pointers\n",
    "        l = 0 # pointer for left half list\n",
    "        r = 0 # pointer for right half list\n",
    "        m = 0 # pointer for main list\n",
    "        \n",
    "        # while our left and right pointers are still pointing at valid indices\n",
    "        while l < len(left_half) and r < len(right_half):\n",
    "            # If the element in the left list is less than the element in the right list\n",
    "            if left_half[l] < right_half[r]:\n",
    "                # Place the left element in the main list\n",
    "                lst[m] = left_half[l]\n",
    "                # Move the left list pointer to the right one element\n",
    "                l += 1\n",
    "            # If right list element is less than left list\n",
    "            else:\n",
    "                # Place the right element in the main list\n",
    "                lst[m] = right_half[r]\n",
    "                # Move the right list pointer to the right one element\n",
    "                r += 1\n",
    "            # Either way, always move the main pointer to the right one element\n",
    "            m += 1\n",
    "            \n",
    "        # If the right list is done, fill the main list with the rest of the sorted left half\n",
    "        while l < len(left_half):\n",
    "            lst[m] = left_half[l]\n",
    "            l += 1\n",
    "            m += 1\n",
    "        # If the left list is done, fill the main list with the rest of the sorted right half\n",
    "        while r < len(right_half):\n",
    "            lst[m] = right_half[r]\n",
    "            r += 1\n",
    "            m += 1\n",
    "        \n",
    "    print('Merging...', lst)\n",
    "    return lst\n",
    "\n",
    "\n",
    "merge_sort(list_to_sort)"
   ]
  },
  {
   "cell_type": "markdown",
   "metadata": {},
   "source": [
    "# Binary Search\n",
    "\n",
    "The Binary Search algorithm works by finding the number in the middle of a given array and comparing it to the target. **Given that the array is sorted**\n",
    "\n",
    "* The worst case run time for this algorithm is `O(log(n))`"
   ]
  },
  {
   "cell_type": "code",
   "execution_count": 59,
   "metadata": {},
   "outputs": [
    {
     "data": {
      "text/plain": [
       "-1"
      ]
     },
     "execution_count": 59,
     "metadata": {},
     "output_type": "execute_result"
    }
   ],
   "source": [
    "# Less == Left\n",
    "# Greater == Right\n",
    "# *List of numbers MUST be sorted*\n",
    "\n",
    "def binary_search(lst, target_element):\n",
    "    # Set a low and high pointer\n",
    "    low = 0 # low part of sorted list\n",
    "    high = len(lst) - 1 # high part of sorted list\n",
    "    # while the value of the low pointer is less than or equal to the high pointer\n",
    "    while low <= high:\n",
    "        # Find the midway point\n",
    "        mid = (low + high) // 2\n",
    "        # Check if the midway point is equal to our target element\n",
    "        if lst[mid] == target_element:\n",
    "            return f'The index for {target_element} is {mid}'\n",
    "        # if the value at the midway point is greater than the target element\n",
    "        elif lst[mid] > target_element:\n",
    "            # Set the high pointer to be one lower than current mid\n",
    "            high = mid - 1\n",
    "        # if value at mid point is less than target\n",
    "        else:\n",
    "            # set low pointer to be one greater than current mid\n",
    "            low = mid + 1\n",
    "            \n",
    "    # if low gets higher than high before we return target index, return -1 to mean Element Not Found\n",
    "    return -1\n",
    "\n",
    "\n",
    "sorted_list = [4, 8, 10, 17, 24, 26, 62, 77, 86, 99]\n",
    "\n",
    "binary_search(sorted_list, 28)"
   ]
  },
  {
   "cell_type": "markdown",
   "metadata": {},
   "source": [
    "# Exercises"
   ]
  },
  {
   "cell_type": "markdown",
   "metadata": {},
   "source": [
    "### Exercise #1 <br>\n",
    "<p>Reverse the list below in-place using an in-place algorithm.<br>For extra credit: Reverse the strings at the same time.</p>"
   ]
  },
  {
   "cell_type": "code",
   "execution_count": null,
   "metadata": {},
   "outputs": [],
   "source": [
    "words = ['this' , 'is', 'a', 'sentence', '.']\n",
    "# ['.', 'ecnetnes', 'a', 'si', 'siht']\n"
   ]
  },
  {
   "cell_type": "markdown",
   "metadata": {},
   "source": [
    "### Exercise #2 <br>\n",
    "<p>Create a function that counts how many distinct words are in the string below, then outputs a dictionary with the words as the key and the value as the amount of times that word appears in the string.</p>\n",
    "Example Output:<code>{'in': 1, 'computing': 1, 'a': 5, ...}</code>"
   ]
  },
  {
   "cell_type": "code",
   "execution_count": null,
   "metadata": {},
   "outputs": [],
   "source": [
    "a_text = 'In computing, a hash table hash map is a data structure which implements an associative array abstract data type, a structure that can map keys to values. A hash table uses a hash function to compute an index into an array of buckets or slots from which the desired value can be found'\n"
   ]
  },
  {
   "cell_type": "markdown",
   "metadata": {},
   "source": [
    "## Exercise #3\n",
    "\n",
    "Write a function implementing a Linear Search Algorithm. A linear search is a method for finding an element within a list. It sequentially checks each element of the list until a match is found or the whole list has been searched. If you do not find a match, return -1"
   ]
  },
  {
   "cell_type": "code",
   "execution_count": null,
   "metadata": {},
   "outputs": [],
   "source": [
    "nums_list = [10,23,45,70,11,15]\n",
    "target = 70 # The index for 70 is 3\n",
    "\n",
    "# If number is not present return -1\n"
   ]
  }
 ],
 "metadata": {
  "kernelspec": {
   "display_name": "Python 3",
   "language": "python",
   "name": "python3"
  },
  "language_info": {
   "codemirror_mode": {
    "name": "ipython",
    "version": 3
   },
   "file_extension": ".py",
   "mimetype": "text/x-python",
   "name": "python",
   "nbconvert_exporter": "python",
   "pygments_lexer": "ipython3",
   "version": "3.8.5"
  }
 },
 "nbformat": 4,
 "nbformat_minor": 2
}
